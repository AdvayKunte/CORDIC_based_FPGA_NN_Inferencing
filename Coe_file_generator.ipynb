{
  "nbformat": 4,
  "nbformat_minor": 0,
  "metadata": {
    "colab": {
      "provenance": []
    },
    "kernelspec": {
      "name": "python3",
      "display_name": "Python 3"
    },
    "language_info": {
      "name": "python"
    }
  },
  "cells": [
    {
      "cell_type": "code",
      "execution_count": null,
      "metadata": {
        "colab": {
          "base_uri": "https://localhost:8080/"
        },
        "id": "8RZMypV75Pee",
        "outputId": "4b5a6472-8a15-47b2-d700-b7de6a29f35e"
      },
      "outputs": [
        {
          "output_type": "execute_result",
          "data": {
            "text/plain": [
              "[-0.8447265625,\n",
              " 0.4150390625,\n",
              " 0.455078125,\n",
              " -0.853515625,\n",
              " 0.341796875,\n",
              " 0.0654296875,\n",
              " 0.2197265625,\n",
              " -0.0029296875,\n",
              " -0.2177734375,\n",
              " -0.2099609375,\n",
              " -0.716796875,\n",
              " -0.3896484375,\n",
              " -0.3955078125,\n",
              " 0.48046875,\n",
              " 0.943359375,\n",
              " 0.9462890625,\n",
              " -0.3662109375,\n",
              " 0.0205078125,\n",
              " 0.4833984375,\n",
              " -0.3525390625,\n",
              " 0.005859375,\n",
              " -0.2607421875,\n",
              " 0.5009765625,\n",
              " -0.0947265625,\n",
              " 0.076171875,\n",
              " 0.9091796875,\n",
              " 0.9677734375,\n",
              " 0.6044921875,\n",
              " -0.9453125,\n",
              " 0.111328125,\n",
              " 0.4052734375,\n",
              " 0.9150390625,\n",
              " -0.072265625,\n",
              " 0.822265625,\n",
              " -0.1767578125,\n",
              " 0.869140625,\n",
              " 0.3857421875,\n",
              " -0.2197265625,\n",
              " 0.087890625,\n",
              " 0.7021484375,\n",
              " 0.208984375,\n",
              " -0.1171875,\n",
              " 0.6572265625,\n",
              " -0.1259765625,\n",
              " -0.318359375,\n",
              " 0.37109375,\n",
              " -0.2578125,\n",
              " -0.3056640625,\n",
              " -0.0048828125,\n",
              " 0.673828125,\n",
              " -0.99609375,\n",
              " -0.3076171875,\n",
              " 0.3193359375,\n",
              " -0.7841796875,\n",
              " 0.953125,\n",
              " 0.119140625,\n",
              " 0.0,\n",
              " 0.869140625,\n",
              " 0.3212890625,\n",
              " -0.828125,\n",
              " 0.3310546875,\n",
              " 0.0849609375,\n",
              " 0.0966796875,\n",
              " 0.806640625,\n",
              " -0.021484375,\n",
              " 0.296875,\n",
              " -0.732421875,\n",
              " 0.712890625,\n",
              " -0.671875,\n",
              " 0.45703125,\n",
              " 0.978515625,\n",
              " -0.66796875,\n",
              " 0.8369140625,\n",
              " 0.1123046875,\n",
              " 0.35546875,\n",
              " -0.5673828125,\n",
              " 0.19921875,\n",
              " -0.9208984375,\n",
              " -0.6845703125,\n",
              " 0.8203125]"
            ]
          },
          "metadata": {},
          "execution_count": 2
        }
      ],
      "source": [
        "# Read the binary values from the generated file and convert them to real numbers\n",
        "real_values = []\n",
        "\n",
        "with open(\"/content/fixed_point_random.mem\", \"r\") as file:\n",
        "    for line in file:\n",
        "        bin_str = line.strip()\n",
        "        raw = int(bin_str, 2)\n",
        "\n",
        "        # Convert from two's complement if needed\n",
        "        if raw & (1 << 15):  # if sign bit is 1\n",
        "            raw -= (1 << 16)\n",
        "\n",
        "        # Convert to real value by dividing by 2^10\n",
        "        real_value = raw / (2**10)\n",
        "        real_values.append(real_value)\n",
        "\n",
        "real_values"
      ]
    },
    {
      "cell_type": "code",
      "source": [
        "num = float(input(\"Enter a decimal number: \"))\n",
        "#num = -42\n",
        "binary_16bit = format((1 << 16) + num, '016b')\n",
        "# print(binary_16bit)\n"
      ],
      "metadata": {
        "colab": {
          "base_uri": "https://localhost:8080/"
        },
        "id": "lMLlREdsY-sP",
        "outputId": "12d482d2-7cfe-48a8-be86-b74647fd1fd0"
      },
      "execution_count": null,
      "outputs": [
        {
          "name": "stdout",
          "output_type": "stream",
          "text": [
            "Enter a decimal number: 0.18\n"
          ]
        }
      ]
    },
    {
      "cell_type": "code",
      "source": [
        "00\n",
        "with open(\"/content/fixed_point_random.mem\", \"w\") as file:\n",
        "    pass  # or file.write(\"\") to explicitly write nothing\n",
        "while(1):\n",
        "  num = float(input(\"Enter a decimal number: \"))\n",
        "  binary = num*1024\n",
        "  a = int(binary)\n",
        "  if(num>0):\n",
        "    binary_16bit = format(a, '016b')\n",
        "  else:\n",
        "    binary_16bit = format((1 << 16) + a, '016b')\n",
        "  with open(\"/content/fixed_point_random.mem\", \"a\") as file:\n",
        "      file.write(binary_16bit)\n",
        "      file.write(\"\\n\")\n"
      ],
      "metadata": {
        "colab": {
          "base_uri": "https://localhost:8080/",
          "height": 1000
        },
        "id": "GNws4J94aB7V",
        "outputId": "be707162-bc0c-47df-e86b-f1f9425517ce"
      },
      "execution_count": null,
      "outputs": [
        {
          "name": "stdout",
          "output_type": "stream",
          "text": [
            "Enter a decimal number: 0.12\n",
            "Enter a decimal number: 0.27\n",
            "Enter a decimal number: 0\n",
            "Enter a decimal number: 0\n",
            "Enter a decimal number: 0.28\n",
            "Enter a decimal number: 0.23\n",
            "Enter a decimal number: 0\n",
            "Enter a decimal number: 0\n",
            "Enter a decimal number: -0.32\n",
            "Enter a decimal number: -0.45\n",
            "Enter a decimal number: 0\n",
            "Enter a decimal number: 0\n",
            "Enter a decimal number: 0.6\n",
            "Enter a decimal number: 0.7\n",
            "Enter a decimal number: 0\n",
            "Enter a decimal number: 0\n",
            "Enter a decimal number: 0.51\n",
            "Enter a decimal number: 0.32\n",
            "Enter a decimal number: 0.4\n",
            "Enter a decimal number: 0\n",
            "Enter a decimal number: -0.12\n",
            "Enter a decimal number: 0.25\n",
            "Enter a decimal number: -0.26\n",
            "Enter a decimal number: 0\n",
            "Enter a decimal number: 0\n",
            "Enter a decimal number: 0\n",
            "Enter a decimal number: 0\n",
            "Enter a decimal number: 0\n",
            "Enter a decimal number: 0\n",
            "Enter a decimal number: 0\n",
            "Enter a decimal number: 0\n",
            "Enter a decimal number: 0\n",
            "Enter a decimal number: 0.12\n",
            "Enter a decimal number: 0.34\n",
            "Enter a decimal number: 0\n",
            "Enter a decimal number: 0\n",
            "Enter a decimal number: 0.18\n",
            "Enter a decimal number: -0.52\n",
            "Enter a decimal number: 0\n",
            "Enter a decimal number: 0\n",
            "Enter a decimal number: 0.15\n",
            "Enter a decimal number: -0.8\n",
            "Enter a decimal number: 0\n",
            "Enter a decimal number: 0\n",
            "Enter a decimal number: 0\n",
            "Enter a decimal number: 0\n",
            "Enter a decimal number: 0\n",
            "Enter a decimal number: 0\n",
            "Enter a decimal number: \n"
          ]
        },
        {
          "output_type": "error",
          "ename": "ValueError",
          "evalue": "could not convert string to float: ''",
          "traceback": [
            "\u001b[0;31m---------------------------------------------------------------------------\u001b[0m",
            "\u001b[0;31mValueError\u001b[0m                                Traceback (most recent call last)",
            "\u001b[0;32m<ipython-input-6-c8bd78a37fc7>\u001b[0m in \u001b[0;36m<cell line: 0>\u001b[0;34m()\u001b[0m\n\u001b[1;32m      3\u001b[0m     \u001b[0;32mpass\u001b[0m  \u001b[0;31m# or file.write(\"\") to explicitly write nothing\u001b[0m\u001b[0;34m\u001b[0m\u001b[0;34m\u001b[0m\u001b[0m\n\u001b[1;32m      4\u001b[0m \u001b[0;32mwhile\u001b[0m\u001b[0;34m(\u001b[0m\u001b[0;36m1\u001b[0m\u001b[0;34m)\u001b[0m\u001b[0;34m:\u001b[0m\u001b[0;34m\u001b[0m\u001b[0;34m\u001b[0m\u001b[0m\n\u001b[0;32m----> 5\u001b[0;31m   \u001b[0mnum\u001b[0m \u001b[0;34m=\u001b[0m \u001b[0mfloat\u001b[0m\u001b[0;34m(\u001b[0m\u001b[0minput\u001b[0m\u001b[0;34m(\u001b[0m\u001b[0;34m\"Enter a decimal number: \"\u001b[0m\u001b[0;34m)\u001b[0m\u001b[0;34m)\u001b[0m\u001b[0;34m\u001b[0m\u001b[0;34m\u001b[0m\u001b[0m\n\u001b[0m\u001b[1;32m      6\u001b[0m   \u001b[0mbinary\u001b[0m \u001b[0;34m=\u001b[0m \u001b[0mnum\u001b[0m\u001b[0;34m*\u001b[0m\u001b[0;36m1024\u001b[0m\u001b[0;34m\u001b[0m\u001b[0;34m\u001b[0m\u001b[0m\n\u001b[1;32m      7\u001b[0m   \u001b[0ma\u001b[0m \u001b[0;34m=\u001b[0m \u001b[0mint\u001b[0m\u001b[0;34m(\u001b[0m\u001b[0mbinary\u001b[0m\u001b[0;34m)\u001b[0m\u001b[0;34m\u001b[0m\u001b[0;34m\u001b[0m\u001b[0m\n",
            "\u001b[0;31mValueError\u001b[0m: could not convert string to float: ''"
          ]
        }
      ]
    },
    {
      "cell_type": "code",
      "source": [
        "0with open(\"/content/biasbank.mem\", \"w\") as file:\n",
        "    pass  # or file.write(\"\") to explicitly write nothing\n",
        "while(1):\n",
        "  num = float(input(\"Enter a decimal number: \"))\n",
        "  binary = num*1024\n",
        "  a = int(binary)\n",
        "  if(num>0):\n",
        "    binary_16bit = format(a, '016b')\n",
        "  else:\n",
        "    binary_16bit = format((1 << 16) + a, '016b')\n",
        "  with open(\"/content/biasbank.mem\", \"a\") as file:\n",
        "      file.write(binary_16bit)\n",
        "      file.write(\"\\n\")"
      ],
      "metadata": {
        "id": "i2M1CT1Tf5yh",
        "colab": {
          "base_uri": "https://localhost:8080/",
          "height": 110
        },
        "outputId": "f1003906-70d9-400f-cefc-90c015b9924f"
      },
      "execution_count": null,
      "outputs": [
        {
          "output_type": "error",
          "ename": "SyntaxError",
          "evalue": "invalid decimal literal (<ipython-input-10-7365da6ec11e>, line 1)",
          "traceback": [
            "\u001b[0;36m  File \u001b[0;32m\"<ipython-input-10-7365da6ec11e>\"\u001b[0;36m, line \u001b[0;32m1\u001b[0m\n\u001b[0;31m    0with open(\"/content/biasbank.mem\", \"w\") as file:\u001b[0m\n\u001b[0m    ^\u001b[0m\n\u001b[0;31mSyntaxError\u001b[0m\u001b[0;31m:\u001b[0m invalid decimal literal\n"
          ]
        }
      ]
    }
  ]
}